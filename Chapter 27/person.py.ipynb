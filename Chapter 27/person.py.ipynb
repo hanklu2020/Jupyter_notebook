{
 "cells": [
  {
   "cell_type": "code",
   "execution_count": null,
   "metadata": {},
   "outputs": [],
   "source": [
    "#File person.py (final)\n",
    "from classtools import AttrDisplay\n",
    "\n",
    "class Person(AttrDisplay):\n",
    "    def __init__(self, name, job=None, pay=0):\n",
    "        self.name = name\n",
    "        self.job = job\n",
    "        self.pay = pay\n",
    "    def lastName(self):\n",
    "        return self.name.split()[-1]\n",
    "    def giveRaise(self, percent):\n",
    "        self.pay = int(self.pay*(1 + percent))\n",
    "    def __str__(self):\n",
    "        return '[Person: %s, %s]' % (self.name, self.pay)\n",
    "        #return '[Person: {self.name}, {self.pay}]'.format(self=self) #Same as previous\n",
    "\n",
    "class Manager(Person):\n",
    "    def __init__(self, name, pay):\n",
    "        Person.__init__(self, name, 'mgr', pay)\n",
    "    def giveRaise(self, percent, bonus=.10):\n",
    "        Person.giveRaise(self, percent+bonus)\n",
    "    '''\n",
    "    # if we don't use \"from classtools import AttrDisplay\"\n",
    "    # we have to type in this way:\n",
    "    def __init__(self, name, pay):\n",
    "        self.person = Person(name, 'mgr', pay)\n",
    "    def giveRaise(self, percent, bonus=.10):\n",
    "        self.person.giveRaise(percent+bonus)\n",
    "    def __getattr__(self, attr):\n",
    "        return getattr(self.person, attr)\n",
    "    def __str__(self):\n",
    "        return str(self.person)\n",
    "    '''\n",
    "\n",
    "if __name__ == '__main__':\n",
    "    #self-test code\n",
    "    bob = Person('Bob Smith')\n",
    "    sue = Person('Sue Jones', job='dev', pay=100000)\n",
    "    print(bob)\n",
    "    print(sue)\n",
    "    print(bob.lastName(),sue.lastName())\n",
    "    sue.giveRaise(.10)\n",
    "    print(bob)\n",
    "    print(sue)\n",
    "    tom = Manager('Tom Jones', 50000)\n",
    "    print(tom.lastName())\n",
    "    print(tom)\n",
    "    tom.giveRaise(.10,.50)\n",
    "    print(tom)\n",
    "    print(\"------------------------------------------\")\n",
    "    \n",
    "class Department:\n",
    "    def __init__(self, *args):\n",
    "        self.members = list(args)\n",
    "    def addMember(self, person):\n",
    "        self.members.append(person)\n",
    "    def giveRaise(self, percent):\n",
    "        for person in self.members:\n",
    "            person.giveRaise(percent)\n",
    "    def showAll(self):\n",
    "        for person in self.members:\n",
    "            print(person)\n",
    "\n",
    "if __name__ == '__main__':\n",
    "    development = Department(bob, sue)\n",
    "    development.addMember(tom)\n",
    "    development.giveRaise(.10)\n",
    "    development.showAll()\n",
    "    print(\"------------------------------------------\")"
   ]
  },
  {
   "cell_type": "code",
   "execution_count": null,
   "metadata": {},
   "outputs": [],
   "source": [
    "!python person.py"
   ]
  },
  {
   "cell_type": "code",
   "execution_count": 1,
   "metadata": {},
   "outputs": [
    {
     "name": "stdout",
     "output_type": "stream",
     "text": [
      "[Person: Hank Lu, 3500]\n"
     ]
    }
   ],
   "source": [
    "from person import Person, Manager\n",
    "\n",
    "hank = Person('Hank Lu', job='dev', pay=3500)\n",
    "print(hank)\n",
    "bob = Person('Bob Smith')\n",
    "sue = Person('Sue Jones', job='dev', pay=100000)\n",
    "tom = Manager('Tom Jones', 50000)"
   ]
  },
  {
   "cell_type": "code",
   "execution_count": null,
   "metadata": {},
   "outputs": [],
   "source": []
  },
  {
   "cell_type": "code",
   "execution_count": null,
   "metadata": {},
   "outputs": [],
   "source": []
  }
 ],
 "metadata": {
  "kernelspec": {
   "display_name": "Python 3",
   "language": "python",
   "name": "python3"
  },
  "language_info": {
   "codemirror_mode": {
    "name": "ipython",
    "version": 3
   },
   "file_extension": ".py",
   "mimetype": "text/x-python",
   "name": "python",
   "nbconvert_exporter": "python",
   "pygments_lexer": "ipython3",
   "version": "3.8.1"
  }
 },
 "nbformat": 4,
 "nbformat_minor": 4
}
